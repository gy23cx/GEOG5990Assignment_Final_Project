{
 "cells": [
  {
   "cell_type": "markdown",
   "id": "b6c38652-6c0d-4b61-b9a9-f6ea14b1d3e7",
   "metadata": {},
   "source": [
    "# GEOG5990M Final Project Assignment\n",
    "\n",
    "Student ID number:  201777629 "
   ]
  },
  {
   "cell_type": "markdown",
   "id": "90161288",
   "metadata": {},
   "source": [
    "# Project Introduce"
   ]
  },
  {
   "cell_type": "code",
   "execution_count": 22,
   "id": "97164579-e372-447c-adee-f7dfd40359b4",
   "metadata": {},
   "outputs": [],
   "source": [
    "# this notebook run on the 'spatial_env' environment kernel\n",
    "# load required packages\n",
    "import pandas \n",
    "import seaborn \n",
    "import numpy \n",
    "import matplotlib.pyplot as mplpplt\n",
    "import os\n",
    "import zipfile\n",
    "\n",
    "import pyproj\n",
    "import contextily as ctx\n",
    "import geopandas \n",
    "import geoplot as gplt\n",
    "import geoplot.crs as gcrs"
   ]
  },
  {
   "cell_type": "markdown",
   "id": "57f1daaf",
   "metadata": {},
   "source": [
    "# Data Pre-Process"
   ]
  },
  {
   "cell_type": "markdown",
   "id": "934d5f0a",
   "metadata": {},
   "source": [
    "## load datas"
   ]
  },
  {
   "cell_type": "code",
   "execution_count": 26,
   "id": "844721a0",
   "metadata": {},
   "outputs": [
    {
     "name": "stdout",
     "output_type": "stream",
     "text": [
      "                             TS019 - Migrant Indicator\n",
      "0    ONS Crown Copyright Reserved [from Nomis on 22...\n",
      "1                   Population :,\"All usual residents\"\n",
      "2                               Units      :,\"Persons\"\n",
      "3                                  Date       :,\"2021\"\n",
      "4    2021 super output area - lower layer,\"mnemonic...\n",
      "..                                                 ...\n",
      "493  ,\"In order to protect against disclosure of pe...\n",
      "494  ,\"have been swapped between different geograph...\n",
      "495  ,\"by small amounts. Small counts at the lowest...\n",
      "496                                       ,\"affected.\"\n",
      "497                                                ,\"\"\n",
      "\n",
      "[498 rows x 1 columns]\n"
     ]
    }
   ],
   "source": [
    "## the migrant indicator data from 2021 Census Topic Summaries, TS019 - Migrant Indicator\n",
    "# this file contains multipule rows with notes that are not part of data, if reading by default will result in a dataframe with structural errors\n",
    "Migrant_Indicator_wrongread = pandas.read_csv('Datas/csnsus2021_TS019 - Migrant Indicator.csv',delimiter=\"\\t\")\n",
    "print(Migrant_Indicator_wrongread)# obviously, pandas treated the title \"TS019 - Migrant Indicator\" as a column\n",
    "# skip the first 7 row to avoid that \n",
    "Migrant_Indicator_rightread = pandas.read_csv('Datas/csnsus2021_TS019 - Migrant Indicator.csv', skiprows=7)"
   ]
  },
  {
   "cell_type": "code",
   "execution_count": null,
   "id": "4cfe3fe4",
   "metadata": {},
   "outputs": [],
   "source": [
    "## Crime data of 2021.4 to 2021.12 of West Yorkshire street\n",
    "#the zip file has a very long file name made by source, which may cause problem with windows file explorer, so rename it\n",
    "os.rename('Datas/c3b4b2b813b856dd673e42b11b7438cbdd90a5db.zip','Datas/crimeLeeds202104to12.zip')\n",
    "\n",
    "#.csv file of each month is in 1 layer of folders in zip file, make a loop to read them, this step can be skiped by manually copy them out from individual folders\n",
    "CrimeWestyorkshire2021_List = [None]*9 #create a list to store dataframes\n",
    "CrimeWestyorkshire2021_zip = zipfile.ZipFile('Datas/crimeLeeds202104to12.zip')\n",
    "#the folder structure is zipfile/2021-xx/2021-xx-west-yorkshire-street.csv \n",
    "for readnum in [0,8]:# due to the uk police data website's limitation, only 9 months' rather than 12 months' data are accessable \n",
    "    if readnum < 6 : pathInCrimeZip = \"2021-0\"+str(readnum+4)+\"/2021-0\"+str(readnum+4)+\"-west-yorkshire-street.csv\"\n",
    "    else : pathInCrimeZip = \"2021-\"+str(readnum+4)+\"/2021-\"+str(readnum+4)+\"-west-yorkshire-street.csv\"\n",
    "    CrimeWestyorkshire2021_List[readnum] = pandas.read_csv(CrimeWestyorkshire2021_zip.open(pathInCrimeZip))\n",
    "CrimeWestyorkshire2021_zip.close()"
   ]
  },
  {
   "cell_type": "code",
   "execution_count": null,
   "id": "deb22715",
   "metadata": {},
   "outputs": [],
   "source": [
    "## shape file of 2021 census version of Lower layer Super Output Areas of England&Wales\n",
    "LSOA_EW_2021 = geopandas.read_file('Datas/Lower_layer_Super_Output_Areas_2021_EW_BFC_V8_8154990398368723939.zip')"
   ]
  },
  {
   "cell_type": "markdown",
   "id": "6b724a5e",
   "metadata": {},
   "source": [
    "## remove irrelevant parts"
   ]
  },
  {
   "cell_type": "code",
   "execution_count": 27,
   "id": "5467c7ab",
   "metadata": {},
   "outputs": [
    {
     "data": {
      "text/html": [
       "<div>\n",
       "<style scoped>\n",
       "    .dataframe tbody tr th:only-of-type {\n",
       "        vertical-align: middle;\n",
       "    }\n",
       "\n",
       "    .dataframe tbody tr th {\n",
       "        vertical-align: top;\n",
       "    }\n",
       "\n",
       "    .dataframe thead th {\n",
       "        text-align: right;\n",
       "    }\n",
       "</style>\n",
       "<table border=\"1\" class=\"dataframe\">\n",
       "  <thead>\n",
       "    <tr style=\"text-align: right;\">\n",
       "      <th></th>\n",
       "      <th>2021 super output area - lower layer</th>\n",
       "      <th>mnemonic</th>\n",
       "      <th>Total: All usual residents</th>\n",
       "      <th>Address one year ago is the same as the address of enumeration</th>\n",
       "      <th>Address one year ago is student term-time or boarding school address in the UK</th>\n",
       "      <th>Migrant from within the UK: Address one year ago was in the UK</th>\n",
       "      <th>Migrant from outside the UK: Address one year ago was outside the UK</th>\n",
       "    </tr>\n",
       "  </thead>\n",
       "  <tbody>\n",
       "    <tr>\n",
       "      <th>488</th>\n",
       "      <td>NaN</td>\n",
       "      <td>In order to protect against disclosure of pers...</td>\n",
       "      <td>NaN</td>\n",
       "      <td>NaN</td>\n",
       "      <td>NaN</td>\n",
       "      <td>NaN</td>\n",
       "      <td>NaN</td>\n",
       "    </tr>\n",
       "    <tr>\n",
       "      <th>489</th>\n",
       "      <td>NaN</td>\n",
       "      <td>have been swapped between different geographic...</td>\n",
       "      <td>NaN</td>\n",
       "      <td>NaN</td>\n",
       "      <td>NaN</td>\n",
       "      <td>NaN</td>\n",
       "      <td>NaN</td>\n",
       "    </tr>\n",
       "    <tr>\n",
       "      <th>490</th>\n",
       "      <td>NaN</td>\n",
       "      <td>by small amounts. Small counts at the lowest g...</td>\n",
       "      <td>NaN</td>\n",
       "      <td>NaN</td>\n",
       "      <td>NaN</td>\n",
       "      <td>NaN</td>\n",
       "      <td>NaN</td>\n",
       "    </tr>\n",
       "    <tr>\n",
       "      <th>491</th>\n",
       "      <td>NaN</td>\n",
       "      <td>affected.</td>\n",
       "      <td>NaN</td>\n",
       "      <td>NaN</td>\n",
       "      <td>NaN</td>\n",
       "      <td>NaN</td>\n",
       "      <td>NaN</td>\n",
       "    </tr>\n",
       "    <tr>\n",
       "      <th>492</th>\n",
       "      <td>NaN</td>\n",
       "      <td>NaN</td>\n",
       "      <td>NaN</td>\n",
       "      <td>NaN</td>\n",
       "      <td>NaN</td>\n",
       "      <td>NaN</td>\n",
       "      <td>NaN</td>\n",
       "    </tr>\n",
       "  </tbody>\n",
       "</table>\n",
       "</div>"
      ],
      "text/plain": [
       "    2021 super output area - lower layer  \\\n",
       "488                                  NaN   \n",
       "489                                  NaN   \n",
       "490                                  NaN   \n",
       "491                                  NaN   \n",
       "492                                  NaN   \n",
       "\n",
       "                                              mnemonic  \\\n",
       "488  In order to protect against disclosure of pers...   \n",
       "489  have been swapped between different geographic...   \n",
       "490  by small amounts. Small counts at the lowest g...   \n",
       "491                                          affected.   \n",
       "492                                                NaN   \n",
       "\n",
       "     Total: All usual residents  \\\n",
       "488                         NaN   \n",
       "489                         NaN   \n",
       "490                         NaN   \n",
       "491                         NaN   \n",
       "492                         NaN   \n",
       "\n",
       "     Address one year ago is the same as the address of enumeration  \\\n",
       "488                                                NaN                \n",
       "489                                                NaN                \n",
       "490                                                NaN                \n",
       "491                                                NaN                \n",
       "492                                                NaN                \n",
       "\n",
       "     Address one year ago is student term-time or boarding school address in the UK  \\\n",
       "488                                                NaN                                \n",
       "489                                                NaN                                \n",
       "490                                                NaN                                \n",
       "491                                                NaN                                \n",
       "492                                                NaN                                \n",
       "\n",
       "     Migrant from within the UK: Address one year ago was in the UK  \\\n",
       "488                                                NaN                \n",
       "489                                                NaN                \n",
       "490                                                NaN                \n",
       "491                                                NaN                \n",
       "492                                                NaN                \n",
       "\n",
       "     Migrant from outside the UK: Address one year ago was outside the UK  \n",
       "488                                                NaN                     \n",
       "489                                                NaN                     \n",
       "490                                                NaN                     \n",
       "491                                                NaN                     \n",
       "492                                                NaN                     "
      ]
     },
     "execution_count": 27,
     "metadata": {},
     "output_type": "execute_result"
    }
   ],
   "source": [
    "## the migrant indicator data\n",
    "Migrant_Indicator_rightread.tail()\n",
    "# this datafram still contain some personal privacy related notes, so drop them"
   ]
  },
  {
   "cell_type": "markdown",
   "id": "d258d629",
   "metadata": {},
   "source": [
    "# result - final visualisations \n",
    "repeat the code of two result visualisations for clear cognition"
   ]
  },
  {
   "cell_type": "markdown",
   "id": "aaf77f2a",
   "metadata": {},
   "source": [
    "## non-spatial "
   ]
  },
  {
   "cell_type": "markdown",
   "id": "834f8c11",
   "metadata": {},
   "source": [
    "## spatial "
   ]
  }
 ],
 "metadata": {
  "kernelspec": {
   "display_name": "Python 3 (ipykernel)",
   "language": "python",
   "name": "python3"
  },
  "language_info": {
   "codemirror_mode": {
    "name": "ipython",
    "version": 3
   },
   "file_extension": ".py",
   "mimetype": "text/x-python",
   "name": "python",
   "nbconvert_exporter": "python",
   "pygments_lexer": "ipython3",
   "version": "3.11.7"
  }
 },
 "nbformat": 4,
 "nbformat_minor": 5
}
