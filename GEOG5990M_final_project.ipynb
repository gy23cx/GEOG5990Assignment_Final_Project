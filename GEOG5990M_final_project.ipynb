{
 "cells": [
  {
   "cell_type": "markdown",
   "id": "b6c38652-6c0d-4b61-b9a9-f6ea14b1d3e7",
   "metadata": {},
   "source": [
    "# GEOG5990M Final Project Assignment\n",
    "\n",
    "Student ID number:  201777629 "
   ]
  },
  {
   "cell_type": "code",
   "execution_count": null,
   "id": "97164579-e372-447c-adee-f7dfd40359b4",
   "metadata": {},
   "outputs": [],
   "source": [
    "# import required packages\n",
    "import pandas \n",
    "import seaborn \n",
    "import numpy \n",
    "import matplotlib.pyplot as mplPPlot"
   ]
  }
 ],
 "metadata": {
  "kernelspec": {
   "display_name": "Python 3 (ipykernel)",
   "language": "python",
   "name": "python3"
  },
  "language_info": {
   "codemirror_mode": {
    "name": "ipython",
    "version": 3
   },
   "file_extension": ".py",
   "mimetype": "text/x-python",
   "name": "python",
   "nbconvert_exporter": "python",
   "pygments_lexer": "ipython3",
   "version": "3.11.7"
  }
 },
 "nbformat": 4,
 "nbformat_minor": 5
}
