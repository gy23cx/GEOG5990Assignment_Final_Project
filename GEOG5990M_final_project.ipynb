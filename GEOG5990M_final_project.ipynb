{
 "cells": [
  {
   "cell_type": "markdown",
   "id": "b6c38652-6c0d-4b61-b9a9-f6ea14b1d3e7",
   "metadata": {},
   "source": [
    "# GEOG5990M Final Project Assignment\n",
    "\n",
    "Student ID number:  201777629 "
   ]
  },
  {
   "cell_type": "markdown",
   "id": "90161288",
   "metadata": {},
   "source": [
    "# Project Introduce"
   ]
  },
  {
   "cell_type": "code",
   "execution_count": 13,
   "id": "97164579-e372-447c-adee-f7dfd40359b4",
   "metadata": {},
   "outputs": [],
   "source": [
    "# this notebook run on the 'spatial_env' environment kernel\n",
    "# load required packages\n",
    "import pandas \n",
    "import seaborn \n",
    "import numpy \n",
    "import matplotlib.pyplot as MplPplot\n",
    "import os\n",
    "import zipfile\n",
    "\n",
    "import pyproj\n",
    "import contextily as ctx\n",
    "import geopandas \n",
    "import geoplot as gplt\n",
    "import geoplot.crs as gcrs"
   ]
  },
  {
   "cell_type": "markdown",
   "id": "57f1daaf",
   "metadata": {},
   "source": [
    "# Data Pre-Process"
   ]
  },
  {
   "cell_type": "markdown",
   "id": "934d5f0a",
   "metadata": {},
   "source": [
    "## load datas"
   ]
  },
  {
   "cell_type": "code",
   "execution_count": null,
   "id": "844721a0",
   "metadata": {},
   "outputs": [],
   "source": [
    "## the migrant indicator \n",
    "# this file contains multipule rows with notes that are not part of data, if reading by default will result in a dataframe with structural errors\n",
    "Migrant_Indicator_wrongread = pandas.read_csv('Datas/csnsus2021_TS019 - Migrant Indicator.csv',delimiter=\"\\t\")\n",
    "print(Migrant_Indicator_wrongread)# obviously, pandas treated the title \"TS019 - Migrant Indicator\" as a column\n",
    "# skip the first 7 row to avoid that \n",
    "Migrant_Indicator = pandas.read_csv('Datas/csnsus2021_TS019 - Migrant Indicator.csv', skiprows=7)"
   ]
  },
  {
   "cell_type": "code",
   "execution_count": null,
   "id": "4cfe3fe4",
   "metadata": {},
   "outputs": [],
   "source": [
    "## Crime data of 2021.4 to 2021.12 of West Yorkshire street\n",
    "#the zip file has a very long file name made by source, which may cause problem with windows file explorer, so rename it\n",
    "# os.rename('Datas/c3b4b2b813b856dd673e42b11b7438cbdd90a5db.zip','Datas/crimeLeeds202104to12.zip')\n",
    "#.csv file of each month is in 1 layer of folders in zip file, make a loop to read them, this step can be skiped by manually copy them out from individual folders\n",
    "CrimeWestyorkshire2021_zip = zipfile.ZipFile('Datas/crimeLeeds202104to12.zip')\n",
    "CrimeWestyorkshire2021_List = [None]*9 #create a list to store dataframes\n",
    "for readnum in [0,8]:\n",
    "    if readnum < 6 : pathInZip = \"2021-0\"+str(readnum+4)+\"/2021-0\"+str(readnum+4)+\"-west-yorkshire-street.csv\"\n",
    "    else : pathInZip = \"2021-\"+str(readnum+4)+\"/2021-\"+str(readnum+4)+\"-west-yorkshire-street.csv\"\n",
    "    CrimeWestyorkshire2021_List[readnum] = pandas.read_csv(CrimeWestyorkshire2021_zip.open(pathInZip))\n",
    "CrimeWestyorkshire2021_zip.close()"
   ]
  },
  {
   "cell_type": "code",
   "execution_count": null,
   "id": "deb22715",
   "metadata": {},
   "outputs": [],
   "source": [
    "## "
   ]
  },
  {
   "cell_type": "markdown",
   "id": "6b724a5e",
   "metadata": {},
   "source": [
    "## remove irrelevant parts"
   ]
  }
 ],
 "metadata": {
  "kernelspec": {
   "display_name": "Python 3 (ipykernel)",
   "language": "python",
   "name": "python3"
  },
  "language_info": {
   "codemirror_mode": {
    "name": "ipython",
    "version": 3
   },
   "file_extension": ".py",
   "mimetype": "text/x-python",
   "name": "python",
   "nbconvert_exporter": "python",
   "pygments_lexer": "ipython3",
   "version": "3.11.7"
  }
 },
 "nbformat": 4,
 "nbformat_minor": 5
}
